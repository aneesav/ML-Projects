{
 "cells": [
  {
   "cell_type": "markdown",
   "metadata": {},
   "source": [
    "# Basic Machine Learning Classification (Part 1)\n",
    "\n",
    "Body mass index (BMI, weight (kg)/height (m)(2)) is the most widely used weight-height index worldwide (American journal of physical anthropology, 128(1), 220–229). BMI is a surrogate measure of body fatness because it is a measure of excess weight rather than excess body fat. Factors such as age, sex, ethnicity, and muscle mass can influence the relationship between BMI and body fat. Here, we want to predict whether weight (kg) alone, can influence BMI. In other words, we want to build a K-nearest neighbors classifier to tell us whether increased weight results in increased BMI.\n",
    "\n",
    "KNN is ideal as it does not make any underlying assumptions about the distribution of the data, and is a relatively simple yet robust classifier for predicting continous outcome variables."
   ]
  },
  {
   "cell_type": "markdown",
   "metadata": {},
   "source": [
    "## Data loading with Pandas\n",
    "- Load `weightLogInfo_merged` dataset using Pandas.\n",
    "- Check the first five observations of each"
   ]
  },
  {
   "cell_type": "code",
   "execution_count": 41,
   "metadata": {
    "scrolled": true
   },
   "outputs": [
    {
     "data": {
      "text/html": [
       "<div>\n",
       "<style scoped>\n",
       "    .dataframe tbody tr th:only-of-type {\n",
       "        vertical-align: middle;\n",
       "    }\n",
       "\n",
       "    .dataframe tbody tr th {\n",
       "        vertical-align: top;\n",
       "    }\n",
       "\n",
       "    .dataframe thead th {\n",
       "        text-align: right;\n",
       "    }\n",
       "</style>\n",
       "<table border=\"1\" class=\"dataframe\">\n",
       "  <thead>\n",
       "    <tr style=\"text-align: right;\">\n",
       "      <th></th>\n",
       "      <th>Date</th>\n",
       "      <th>WeightKg</th>\n",
       "      <th>WeightPounds</th>\n",
       "      <th>Fat</th>\n",
       "      <th>BMI</th>\n",
       "      <th>IsManualReport</th>\n",
       "      <th>LogId</th>\n",
       "    </tr>\n",
       "    <tr>\n",
       "      <th>Id</th>\n",
       "      <th></th>\n",
       "      <th></th>\n",
       "      <th></th>\n",
       "      <th></th>\n",
       "      <th></th>\n",
       "      <th></th>\n",
       "      <th></th>\n",
       "    </tr>\n",
       "  </thead>\n",
       "  <tbody>\n",
       "    <tr>\n",
       "      <th>1503960366</th>\n",
       "      <td>5/2/2016 11:59:59 PM</td>\n",
       "      <td>52.599998</td>\n",
       "      <td>115.963147</td>\n",
       "      <td>22.0</td>\n",
       "      <td>22.650000</td>\n",
       "      <td>True</td>\n",
       "      <td>1462233599000</td>\n",
       "    </tr>\n",
       "    <tr>\n",
       "      <th>1503960366</th>\n",
       "      <td>5/3/2016 11:59:59 PM</td>\n",
       "      <td>52.599998</td>\n",
       "      <td>115.963147</td>\n",
       "      <td>NaN</td>\n",
       "      <td>22.650000</td>\n",
       "      <td>True</td>\n",
       "      <td>1462319999000</td>\n",
       "    </tr>\n",
       "    <tr>\n",
       "      <th>1927972279</th>\n",
       "      <td>4/13/2016 1:08:52 AM</td>\n",
       "      <td>133.500000</td>\n",
       "      <td>294.317120</td>\n",
       "      <td>NaN</td>\n",
       "      <td>47.540001</td>\n",
       "      <td>False</td>\n",
       "      <td>1460509732000</td>\n",
       "    </tr>\n",
       "    <tr>\n",
       "      <th>2873212765</th>\n",
       "      <td>4/21/2016 11:59:59 PM</td>\n",
       "      <td>56.700001</td>\n",
       "      <td>125.002104</td>\n",
       "      <td>NaN</td>\n",
       "      <td>21.450001</td>\n",
       "      <td>True</td>\n",
       "      <td>1461283199000</td>\n",
       "    </tr>\n",
       "    <tr>\n",
       "      <th>2873212765</th>\n",
       "      <td>5/12/2016 11:59:59 PM</td>\n",
       "      <td>57.299999</td>\n",
       "      <td>126.324875</td>\n",
       "      <td>NaN</td>\n",
       "      <td>21.690001</td>\n",
       "      <td>True</td>\n",
       "      <td>1463097599000</td>\n",
       "    </tr>\n",
       "  </tbody>\n",
       "</table>\n",
       "</div>"
      ],
      "text/plain": [
       "                             Date    WeightKg  WeightPounds   Fat        BMI  \\\n",
       "Id                                                                             \n",
       "1503960366   5/2/2016 11:59:59 PM   52.599998    115.963147  22.0  22.650000   \n",
       "1503960366   5/3/2016 11:59:59 PM   52.599998    115.963147   NaN  22.650000   \n",
       "1927972279   4/13/2016 1:08:52 AM  133.500000    294.317120   NaN  47.540001   \n",
       "2873212765  4/21/2016 11:59:59 PM   56.700001    125.002104   NaN  21.450001   \n",
       "2873212765  5/12/2016 11:59:59 PM   57.299999    126.324875   NaN  21.690001   \n",
       "\n",
       "            IsManualReport          LogId  \n",
       "Id                                         \n",
       "1503960366            True  1462233599000  \n",
       "1503960366            True  1462319999000  \n",
       "1927972279           False  1460509732000  \n",
       "2873212765            True  1461283199000  \n",
       "2873212765            True  1463097599000  "
      ]
     },
     "execution_count": 41,
     "metadata": {},
     "output_type": "execute_result"
    }
   ],
   "source": [
    "import pandas as pd\n",
    "\n",
    "weight = pd.read_csv(\"/Users/aneesavalentine/Downloads/Fitabase Data 4.12.16-5.12.16/weightLogInfo_merged.csv\", index_col = 0)\n",
    "weight.head(5)\n",
    "\n",
    "### Index col function creates an indexed column with a number corresponding to each observation."
   ]
  },
  {
   "cell_type": "markdown",
   "metadata": {},
   "source": [
    "## Simple analysis\n",
    "- Check the shape of the dataset, \n",
    "- list the column names count number of unique values in `income` column, \n",
    "- plot the histogram of age grouped by income"
   ]
  },
  {
   "cell_type": "code",
   "execution_count": 29,
   "metadata": {},
   "outputs": [
    {
     "data": {
      "text/plain": [
       "(67, 7)"
      ]
     },
     "execution_count": 29,
     "metadata": {},
     "output_type": "execute_result"
    }
   ],
   "source": [
    "weight.shape\n",
    "\n",
    "### (Rows, columns) or (observations, features)\n",
    "### There are 7 features and 67 observations in our dataset."
   ]
  },
  {
   "cell_type": "code",
   "execution_count": 30,
   "metadata": {},
   "outputs": [
    {
     "data": {
      "text/plain": [
       "['Date', 'WeightKg', 'WeightPounds', 'Fat', 'BMI', 'IsManualReport', 'LogId']"
      ]
     },
     "execution_count": 30,
     "metadata": {},
     "output_type": "execute_result"
    }
   ],
   "source": [
    "list(weight.columns)\n",
    "\n",
    "### We assume the  column is the target variable so we want to know the names of all the other columns.\n",
    "### List function is optional."
   ]
  },
  {
   "cell_type": "code",
   "execution_count": 31,
   "metadata": {},
   "outputs": [
    {
     "data": {
      "text/plain": [
       "Id\n",
       "1503960366    22.650000\n",
       "1503960366    22.650000\n",
       "1927972279    47.540001\n",
       "2873212765    21.450001\n",
       "2873212765    21.690001\n",
       "                ...    \n",
       "8877689391    25.440001\n",
       "8877689391    25.559999\n",
       "8877689391    25.610001\n",
       "8877689391    25.559999\n",
       "8877689391    25.139999\n",
       "Name: BMI, Length: 67, dtype: float64"
      ]
     },
     "execution_count": 31,
     "metadata": {},
     "output_type": "execute_result"
    }
   ],
   "source": [
    "weight.BMI\n",
    "\n",
    "### Shows first and last values in the long \"BMI\" vector.\n",
    "### We are just doing data exploration now.\n",
    "### BMI is our target variable."
   ]
  },
  {
   "cell_type": "code",
   "execution_count": 34,
   "metadata": {},
   "outputs": [
    {
     "data": {
      "text/plain": [
       "23.889999    5\n",
       "23.959999    5\n",
       "24.000000    5\n",
       "25.559999    4\n",
       "25.590000    4\n",
       "25.410000    4\n",
       "24.100000    4\n",
       "24.240000    2\n",
       "25.490000    2\n",
       "25.530001    2\n",
       "25.680000    2\n",
       "24.170000    2\n",
       "23.820000    2\n",
       "22.650000    2\n",
       "24.389999    1\n",
       "28.000000    1\n",
       "25.610001    1\n",
       "25.440001    1\n",
       "25.260000    1\n",
       "21.450001    1\n",
       "21.690001    1\n",
       "25.290001    1\n",
       "27.450001    1\n",
       "27.379999    1\n",
       "25.309999    1\n",
       "27.250000    1\n",
       "27.459999    1\n",
       "27.320000    1\n",
       "24.350000    1\n",
       "23.930000    1\n",
       "23.850000    1\n",
       "27.040001    1\n",
       "47.540001    1\n",
       "27.000000    1\n",
       "24.209999    1\n",
       "25.139999    1\n",
       "Name: BMI, dtype: int64"
      ]
     },
     "execution_count": 34,
     "metadata": {},
     "output_type": "execute_result"
    }
   ],
   "source": [
    "weight.BMI.value_counts()\n",
    "\n",
    "### Value_counts counts the number of values in the \"income\" column. We have 67 datapoints total.\n",
    "### Also tells us the data is unbalanced.\n",
    "### Here we can see that almost all values are unique, ranging from 20-30, with one \"outlier\" valued at 47.\n",
    "### We cannot determine true outliers just by looking at these values by eye."
   ]
  },
  {
   "cell_type": "code",
   "execution_count": 38,
   "metadata": {},
   "outputs": [
    {
     "data": {
      "text/plain": [
       "BMI\n",
       "21.450001    AxesSubplot(0.125,0.125;0.775x0.755)\n",
       "21.690001    AxesSubplot(0.125,0.125;0.775x0.755)\n",
       "22.650000    AxesSubplot(0.125,0.125;0.775x0.755)\n",
       "23.820000    AxesSubplot(0.125,0.125;0.775x0.755)\n",
       "23.850000    AxesSubplot(0.125,0.125;0.775x0.755)\n",
       "23.889999    AxesSubplot(0.125,0.125;0.775x0.755)\n",
       "23.930000    AxesSubplot(0.125,0.125;0.775x0.755)\n",
       "23.959999    AxesSubplot(0.125,0.125;0.775x0.755)\n",
       "24.000000    AxesSubplot(0.125,0.125;0.775x0.755)\n",
       "24.100000    AxesSubplot(0.125,0.125;0.775x0.755)\n",
       "24.170000    AxesSubplot(0.125,0.125;0.775x0.755)\n",
       "24.209999    AxesSubplot(0.125,0.125;0.775x0.755)\n",
       "24.240000    AxesSubplot(0.125,0.125;0.775x0.755)\n",
       "24.350000    AxesSubplot(0.125,0.125;0.775x0.755)\n",
       "24.389999    AxesSubplot(0.125,0.125;0.775x0.755)\n",
       "25.139999    AxesSubplot(0.125,0.125;0.775x0.755)\n",
       "25.260000    AxesSubplot(0.125,0.125;0.775x0.755)\n",
       "25.290001    AxesSubplot(0.125,0.125;0.775x0.755)\n",
       "25.309999    AxesSubplot(0.125,0.125;0.775x0.755)\n",
       "25.410000    AxesSubplot(0.125,0.125;0.775x0.755)\n",
       "25.440001    AxesSubplot(0.125,0.125;0.775x0.755)\n",
       "25.490000    AxesSubplot(0.125,0.125;0.775x0.755)\n",
       "25.530001    AxesSubplot(0.125,0.125;0.775x0.755)\n",
       "25.559999    AxesSubplot(0.125,0.125;0.775x0.755)\n",
       "25.590000    AxesSubplot(0.125,0.125;0.775x0.755)\n",
       "25.610001    AxesSubplot(0.125,0.125;0.775x0.755)\n",
       "25.680000    AxesSubplot(0.125,0.125;0.775x0.755)\n",
       "27.000000    AxesSubplot(0.125,0.125;0.775x0.755)\n",
       "27.040001    AxesSubplot(0.125,0.125;0.775x0.755)\n",
       "27.250000    AxesSubplot(0.125,0.125;0.775x0.755)\n",
       "27.320000    AxesSubplot(0.125,0.125;0.775x0.755)\n",
       "27.379999    AxesSubplot(0.125,0.125;0.775x0.755)\n",
       "27.450001    AxesSubplot(0.125,0.125;0.775x0.755)\n",
       "27.459999    AxesSubplot(0.125,0.125;0.775x0.755)\n",
       "28.000000    AxesSubplot(0.125,0.125;0.775x0.755)\n",
       "47.540001    AxesSubplot(0.125,0.125;0.775x0.755)\n",
       "Name: WeightKg, dtype: object"
      ]
     },
     "execution_count": 38,
     "metadata": {},
     "output_type": "execute_result"
    },
    {
     "data": {
      "image/png": "[encoded data removed]",
      "text/plain": [
       "<Figure size 432x288 with 1 Axes>"
      ]
     },
     "metadata": {
      "needs_background": "light"
     },
     "output_type": "display_data"
    }
   ],
   "source": [
    "weight.groupby([\"BMI\"])\n",
    "\n",
    "### Returns an object with BMI groups, based on the distribution we saw above.\n",
    "\n",
    "\n",
    "weight.groupby([\"BMI\"]).WeightKg.hist()\n",
    "\n",
    "### Returns a histogram demonstrating tradeoff between BMI and weight using our previously generated object."
   ]
  },
  {
   "cell_type": "markdown",
   "metadata": {
    "tags": []
   },
   "source": [
    "# Splitting into training and test data\n",
    "- Split data into train and test datasets"
   ]
  },
  {
   "cell_type": "code",
   "execution_count": 42,
   "metadata": {},
   "outputs": [
    {
     "name": "stdout",
     "output_type": "stream",
     "text": [
      "No. of training examples: 53\n",
      "No. of testing examples: 14\n"
     ]
    }
   ],
   "source": [
    "from sklearn.model_selection import train_test_split\n",
    "\n",
    "training_data, testing_data = train_test_split(weight, test_size=0.2, random_state=25)\n",
    "\n",
    "print(f\"No. of training examples: {training_data.shape[0]}\")\n",
    "print(f\"No. of testing examples: {testing_data.shape[0]}\")\n",
    "\n",
    "### Scikit-learn inherently splits the data into 80% test and 20% train.\n",
    "### We set a random state so the results are reproducible i.e such that every time we run, the same instances will be included in the test and train datasets."
   ]
  }
 ],
 "metadata": {
  "kernelspec": {
   "display_name": "Python 3 (ipykernel)",
   "language": "python",
   "name": "python3"
  },
  "language_info": {
   "codemirror_mode": {
    "name": "ipython",
    "version": 3
   },
   "file_extension": ".py",
   "mimetype": "text/x-python",
   "name": "python",
   "nbconvert_exporter": "python",
   "pygments_lexer": "ipython3",
   "version": "3.9.12"
  }
 },
 "nbformat": 4,
 "nbformat_minor": 4
}
